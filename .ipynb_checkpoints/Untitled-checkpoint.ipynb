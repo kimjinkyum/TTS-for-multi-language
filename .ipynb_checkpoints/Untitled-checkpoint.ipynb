{
 "cells": [
  {
   "cell_type": "code",
   "execution_count": 11,
   "metadata": {},
   "outputs": [],
   "source": [
    "import matplotlib.pyplot as plt\n",
    "import librosa.display\n",
    "from datetime import datetime\n",
    "import os\n",
    "import re\n",
    "import librosa\n",
    "import math\n",
    "import numpy as np\n",
    "import soundfile as sf"
   ]
  },
  {
   "cell_type": "code",
   "execution_count": 12,
   "metadata": {},
   "outputs": [],
   "source": [
    "subtitle_address=\"C:\\\\Users\\\\jinkyum\\\\Desktop\\\\TTS\\\\part.txt\"\n",
    "audio_folder_path=\"C:\\\\Users\\\\jinkyum\\\\Desktop\\\\TTS\\\\sample\""
   ]
  },
  {
   "cell_type": "code",
   "execution_count": 13,
   "metadata": {},
   "outputs": [],
   "source": [
    "# Loading filename of the audio and sorting\n",
    "arr = os.listdir(audio_folder_path)\n",
    "arr.sort(key=lambda f: int(re.sub('\\D', '', f)))"
   ]
  },
  {
   "cell_type": "code",
   "execution_count": 14,
   "metadata": {},
   "outputs": [
    {
     "data": {
      "image/png": "[encoded data removed]",
      "text/plain": [
       "<Figure size 432x288 with 1 Axes>"
      ]
     },
     "metadata": {
      "needs_background": "light"
     },
     "output_type": "display_data"
    }
   ],
   "source": [
    "with open(subtitle_address) as f:\n",
    "    # reading subtitle and removing unwanted spaces\n",
    "    content = f.readlines()\n",
    "    content = [x.strip() for x in content]\n",
    "\n",
    "\n",
    "    x=1\n",
    "    next=False\n",
    "    # finding the last subtitle and reading the endtime\n",
    "    content.reverse()\n",
    "    endtime = content[1]\n",
    "    endtime = endtime[17:]\n",
    "    # converting time into seconds\n",
    "    pt = datetime.strptime(endtime, '%H:%M:%S,%f')\n",
    "    total_seconds = pt.second + pt.minute * 60 + pt.hour * 3600+1\n",
    "    content.reverse()\n",
    "\n",
    "    # making a zero array of the length of the audio\n",
    "    endtime = np.zeros(math.floor(total_seconds*22050))\n",
    "\n",
    "    #reading each line of the subtitle and looking for number eg: 1 ,2 ,3\n",
    "    # and using the variable 'x' to look for the correct number\n",
    "    #  after finding the correct number , assigning variable 'next' as True\n",
    "    #  Because in subtitle after number comes the time , we are looking for the time\n",
    "    # example of subtitle is given below\n",
    "    # ##############################################################################################\n",
    "    # 1\n",
    "    # 00: 00:05, 480 --> 00: 00:07, 060\n",
    "    # What is that? Fumigation?\n",
    "    #\n",
    "    # 2\n",
    "    # 00: 00:0\n",
    "    # 8, 860 --> 00: 00:0\n",
    "    # 9, 750\n",
    "    # Close the windows\n",
    "\n",
    "    #########################################################################################\n",
    "    for line in content:\n",
    "        if next == True:\n",
    "            start=line[:-17]\n",
    "            end=line[17:]\n",
    "\n",
    "            # changing starting time to seconds\n",
    "            pt = datetime.strptime(str(start), '%H:%M:%S,%f')\n",
    "            start = pt.second + pt.minute * 60 + pt.hour * 3600\n",
    "            pt = datetime.strptime(str(end), '%H:%M:%S,%f')\n",
    "            end = pt.second + pt.minute * 60 + pt.hour * 3600\n",
    "\n",
    "            # Loading the audio using librosa\n",
    "            y, sr = librosa.load(audio_folder_path+\"/\"+arr[x-2])\n",
    "\n",
    "            # adding silence if the audio to small\n",
    "            if ((end - start) > len(y) / 22050):\n",
    "                fd = 0.025\n",
    "                f_size = math.floor(fd * sr)\n",
    "                n_f = math.floor(y.shape[0] / f_size)\n",
    "                alpha = 1\n",
    "                data = []\n",
    "                newarray = np.array_split(y, n_f)\n",
    "                for i in newarray:\n",
    "                    # print(np.amax(i))\n",
    "                    if (np.amax(i) > 0.025):\n",
    "                        if alpha == 1:\n",
    "                            b = np.copy(i)\n",
    "                            # print(b.shape)\n",
    "                            alpha = alpha + 1\n",
    "                            continue\n",
    "                        b = np.concatenate([b, i])\n",
    "                    else:\n",
    "                        b = np.concatenate([b, i])\n",
    "                        b = np.concatenate([b, i])\n",
    "\n",
    "                y=b\n",
    "\n",
    "\n",
    "\n",
    "            # copying the audio to  the zero array at the specific time\n",
    "            for i in range(len(y)) :\n",
    "                endtime[(start*22050)+i] = y[i]\n",
    "\n",
    "            next = False\n",
    "\n",
    "\n",
    "\n",
    "        if line == str(x):\n",
    "            # print(line)\n",
    "            next=True\n",
    "            x=x+1\n",
    "\n",
    "    # To visualize the audio\n",
    "    plt.subplot(1, 1, 1)\n",
    "    librosa.display.waveplot(endtime, sr=sr, color='b', alpha=0.8)\n",
    "    plt.title('Original')\n",
    "    plt.tight_layout()\n",
    "    plt.show()\n",
    "\n",
    "    # to write the combined audio\n",
    "    librosa.output.write_wav('combined_audio.wav', endtime, sr)"
   ]
  },
  {
   "cell_type": "code",
   "execution_count": 15,
   "metadata": {},
   "outputs": [],
   "source": [
    "sf.write(\"test.wav\", endtime, sr, format='WAV', endian='LITTLE', subtype='PCM_16') # 깨지지 않음"
   ]
  },
  {
   "cell_type": "code",
   "execution_count": null,
   "metadata": {},
   "outputs": [],
   "source": []
  }
 ],
 "metadata": {
  "kernelspec": {
   "display_name": "Python 3",
   "language": "python",
   "name": "python3"
  },
  "language_info": {
   "codemirror_mode": {
    "name": "ipython",
    "version": 3
   },
   "file_extension": ".py",
   "mimetype": "text/x-python",
   "name": "python",
   "nbconvert_exporter": "python",
   "pygments_lexer": "ipython3",
   "version": "3.7.4"
  }
 },
 "nbformat": 4,
 "nbformat_minor": 4
}
